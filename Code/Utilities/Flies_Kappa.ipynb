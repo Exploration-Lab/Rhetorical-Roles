{
 "cells": [
  {
   "cell_type": "code",
   "execution_count": 29,
   "id": "e4197021",
   "metadata": {},
   "outputs": [],
   "source": [
    "import json\n",
    "import os\n",
    "import numpy as np\n",
    "import math"
   ]
  },
  {
   "cell_type": "code",
   "execution_count": 148,
   "id": "19827a95",
   "metadata": {},
   "outputs": [],
   "source": [
    "path_train = 'IT_train.json'\n",
    "path_test = 'IT_test.json'\n",
    "\n",
    "with open(path_train, \"r\") as f:\n",
    "    data_train = json.load(f)\n",
    "    f.close()\n",
    "    \n",
    "with open(path_test, \"r\") as f:\n",
    "    data_test = json.load(f)\n",
    "    f.close()"
   ]
  },
  {
   "cell_type": "code",
   "execution_count": 133,
   "id": "cbd0fbfc",
   "metadata": {},
   "outputs": [],
   "source": [
    "# path_train = 'CL_train.json'\n",
    "# path_test = 'CL_test.json'\n",
    "\n",
    "# with open(path_train, \"r\") as f:\n",
    "#     data_train = json.load(f)\n",
    "#     f.close()\n",
    "    \n",
    "# with open(path_test, \"r\") as f:\n",
    "#     data_test = json.load(f)\n",
    "#     f.close()"
   ]
  },
  {
   "cell_type": "code",
   "execution_count": 68,
   "id": "c7793cbc",
   "metadata": {},
   "outputs": [],
   "source": [
    "def isNaN(string):\n",
    "    return string != string"
   ]
  },
  {
   "cell_type": "code",
   "execution_count": 73,
   "id": "dce1b5fa",
   "metadata": {},
   "outputs": [],
   "source": [
    "for dictionary in [data_train, data_test]:\n",
    "    for case in dictionary.keys():\n",
    "        for p in dictionary[case]['user_3_overall']:\n",
    "            if(isNaN(p)):\n",
    "                print(1)"
   ]
  },
  {
   "cell_type": "code",
   "execution_count": 149,
   "id": "a7f94ad0",
   "metadata": {},
   "outputs": [],
   "source": [
    "total_sentences = 0\n",
    "labels = []\n",
    "for dic in [data_train, data_test]:\n",
    "    for case in dic.keys():\n",
    "        total_sentences += len(dic[case]['sentences'])\n",
    "        for key in ['user_1_overall', 'user_2_overall', 'user_3_overall']:\n",
    "            for label in dic[case][key]:\n",
    "                labels.append(str(label))\n",
    "labels = np.unique(np.array(labels))"
   ]
  },
  {
   "cell_type": "code",
   "execution_count": 151,
   "id": "57264cf8",
   "metadata": {},
   "outputs": [],
   "source": [
    "labelstoidx = {}\n",
    "count = 0\n",
    "for label in labels:\n",
    "    labelstoidx[label] = count\n",
    "    count += 1"
   ]
  },
  {
   "cell_type": "code",
   "execution_count": 153,
   "id": "927da31b",
   "metadata": {},
   "outputs": [],
   "source": [
    "n = np.zeros((total_sentences, len(labels)))"
   ]
  },
  {
   "cell_type": "code",
   "execution_count": 154,
   "id": "3d56f324",
   "metadata": {},
   "outputs": [],
   "source": [
    "start = 0\n",
    "for dic in [data_train, data_test]:\n",
    "    for case in dic.keys():\n",
    "        for u1, u2, u3 in zip(dic[case]['user_1_overall'], dic[case]['user_2_overall'], dic[case]['user_3_overall']):\n",
    "            n[start][labelstoidx[str(u1)]] += 1\n",
    "            n[start][labelstoidx[str(u2)]] += 1\n",
    "            n[start][labelstoidx[str(u3)]] += 1\n",
    "            start += 1"
   ]
  },
  {
   "cell_type": "code",
   "execution_count": 156,
   "id": "06023f62",
   "metadata": {},
   "outputs": [],
   "source": [
    "## Calculate pj's\n",
    "\n",
    "pj = np.zeros(n.shape[1])\n",
    "n_raters = 3\n",
    "\n",
    "for j in range(n.shape[1]):\n",
    "    total = 0\n",
    "    for i in range(n.shape[0]):\n",
    "        total += n[i][j]\n",
    "    pj[j] = total/(n_raters*n.shape[0])"
   ]
  },
  {
   "cell_type": "code",
   "execution_count": 157,
   "id": "b29ee703",
   "metadata": {},
   "outputs": [
    {
     "data": {
      "text/plain": [
       "array([0.08609131, 0.05265614, 0.00033944, 0.18788187, 0.01366259,\n",
       "       0.09602003, 0.03818737, 0.00067889, 0.09729294, 0.21741344,\n",
       "       0.06008147, 0.03127122, 0.11842329])"
      ]
     },
     "execution_count": 157,
     "metadata": {},
     "output_type": "execute_result"
    }
   ],
   "source": [
    "pj"
   ]
  },
  {
   "cell_type": "code",
   "execution_count": 158,
   "id": "fe733632",
   "metadata": {},
   "outputs": [],
   "source": [
    "## Calculate Pi's\n",
    "\n",
    "Pi = np.zeros(n.shape[0])\n",
    "n_raters = 3\n",
    "for i in range(n.shape[0]):\n",
    "    total = 0\n",
    "    for j in range(n.shape[1]):\n",
    "        total += n[i][j]*(n[i][j]-1)\n",
    "    Pi[i] = total/((n_raters-1)*n_raters)"
   ]
  },
  {
   "cell_type": "code",
   "execution_count": 159,
   "id": "db24ba62",
   "metadata": {},
   "outputs": [],
   "source": [
    "## Calculate P_dash\n",
    "\n",
    "P_dash = 0\n",
    "for i in range(n.shape[0]):\n",
    "    P_dash += Pi[i]\n",
    "P_dash /= n.shape[0]"
   ]
  },
  {
   "cell_type": "code",
   "execution_count": 160,
   "id": "621fe67e",
   "metadata": {},
   "outputs": [],
   "source": [
    "## Calculate P_e\n",
    "\n",
    "P_e = 0\n",
    "\n",
    "for j in range(n.shape[1]):\n",
    "    P_e += pj[j]*pj[j]"
   ]
  },
  {
   "cell_type": "code",
   "execution_count": 161,
   "id": "7928416c",
   "metadata": {},
   "outputs": [
    {
     "data": {
      "text/plain": [
       "0.5923612507457806"
      ]
     },
     "execution_count": 161,
     "metadata": {},
     "output_type": "execute_result"
    }
   ],
   "source": [
    "(P_dash-P_e)/(1-P_e)"
   ]
  },
  {
   "cell_type": "code",
   "execution_count": 100,
   "id": "756d6d8a",
   "metadata": {},
   "outputs": [],
   "source": [
    "## ALL labels IT : 0.5923612507457806\n",
    "## ALL labels CL : 0.8640880615553184"
   ]
  },
  {
   "cell_type": "markdown",
   "id": "9258a742",
   "metadata": {},
   "source": [
    "## For Compressed Labels"
   ]
  },
  {
   "cell_type": "code",
   "execution_count": 134,
   "id": "276f9f49",
   "metadata": {},
   "outputs": [],
   "source": [
    "mapping = {}\n",
    "mapping['ArgumentPetitioner'] = 'Argument'\n",
    "mapping['ArgumentRespondent'] = 'Argument'\n",
    "mapping['Fact'] = 'Fact'\n",
    "mapping['Issue'] = 'Fact'\n",
    "mapping['PrecedentNotReliedUpon'] = 'Precedent'\n",
    "mapping['PrecedentReliedUpon'] = 'Precedent'\n",
    "mapping['PrecedentOverruled'] = 'Precedent'\n",
    "mapping['RatioOfTheDecision'] = 'RatioOfTheDecision'\n",
    "mapping['Statute'] = 'Statute'\n",
    "mapping['RulingByPresentCourt'] = 'RulingByPresentCourt'\n",
    "mapping['RulingByLowerCourt'] = 'RulingByLowerCourt'"
   ]
  },
  {
   "cell_type": "code",
   "execution_count": 135,
   "id": "19b8bd89",
   "metadata": {},
   "outputs": [],
   "source": [
    "total_sentences = 0\n",
    "labels = []\n",
    "for dic in [data_train, data_test]:\n",
    "    for case in dic.keys():\n",
    "        for idx in range(len(dic[case]['sentences'])):\n",
    "            poss = True\n",
    "            for key in ['user_1_overall', 'user_2_overall', 'user_3_overall']:\n",
    "                curr = str(dic[case][key][idx])\n",
    "                if(curr == 'None' or curr == 'Dissent'):\n",
    "                    poss = False\n",
    "            if(poss):\n",
    "                labels.append(mapping[str(dic[case]['user_1_overall'][idx])])\n",
    "                labels.append(mapping[str(dic[case]['user_2_overall'][idx])])\n",
    "                labels.append(mapping[str(dic[case]['user_3_overall'][idx])])\n",
    "                total_sentences += 1\n",
    "labels = np.unique(np.array(labels))"
   ]
  },
  {
   "cell_type": "code",
   "execution_count": 137,
   "id": "d0f1dada",
   "metadata": {},
   "outputs": [],
   "source": [
    "labelstoidx = {}\n",
    "count = 0\n",
    "for label in labels:\n",
    "    labelstoidx[label] = count\n",
    "    count += 1"
   ]
  },
  {
   "cell_type": "code",
   "execution_count": 139,
   "id": "d471dbdc",
   "metadata": {},
   "outputs": [],
   "source": [
    "n = np.zeros((total_sentences, len(labels)))"
   ]
  },
  {
   "cell_type": "code",
   "execution_count": 140,
   "id": "1ede9b5f",
   "metadata": {},
   "outputs": [],
   "source": [
    "start = 0\n",
    "for dic in [data_train, data_test]:\n",
    "    for case in dic.keys():\n",
    "        for idx in range(len(dic[case]['sentences'])):\n",
    "            poss = True\n",
    "            for key in ['user_1_overall', 'user_2_overall', 'user_3_overall']:\n",
    "                curr = str(dic[case][key][idx])\n",
    "                if(curr == 'None' or curr == 'Dissent'):\n",
    "                    poss = False\n",
    "            if(poss):\n",
    "                n[start][labelstoidx[mapping[str(dic[case]['user_1_overall'][idx])]]] += 1\n",
    "                n[start][labelstoidx[mapping[str(dic[case]['user_2_overall'][idx])]]] += 1\n",
    "                n[start][labelstoidx[mapping[str(dic[case]['user_3_overall'][idx])]]] += 1\n",
    "                start += 1"
   ]
  },
  {
   "cell_type": "code",
   "execution_count": 142,
   "id": "a3a222d5",
   "metadata": {},
   "outputs": [],
   "source": [
    "## Calculate pj's\n",
    "\n",
    "pj = np.zeros(n.shape[1])\n",
    "n_raters = 3\n",
    "\n",
    "for j in range(n.shape[1]):\n",
    "    total = 0\n",
    "    for i in range(n.shape[0]):\n",
    "        total += n[i][j]\n",
    "    pj[j] = total/(n_raters*n.shape[0])"
   ]
  },
  {
   "cell_type": "code",
   "execution_count": 143,
   "id": "6845ba20",
   "metadata": {},
   "outputs": [],
   "source": [
    "## Calculate Pi's\n",
    "\n",
    "Pi = np.zeros(n.shape[0])\n",
    "n_raters = 3\n",
    "for i in range(n.shape[0]):\n",
    "    total = 0\n",
    "    for j in range(n.shape[1]):\n",
    "        total += n[i][j]*(n[i][j]-1)\n",
    "    Pi[i] = total/((n_raters-1)*n_raters)"
   ]
  },
  {
   "cell_type": "code",
   "execution_count": 144,
   "id": "286b74e4",
   "metadata": {},
   "outputs": [],
   "source": [
    "## Calculate P_dash\n",
    "\n",
    "P_dash = 0\n",
    "for i in range(n.shape[0]):\n",
    "    P_dash += Pi[i]\n",
    "P_dash /= n.shape[0]"
   ]
  },
  {
   "cell_type": "code",
   "execution_count": 145,
   "id": "d464cb3e",
   "metadata": {},
   "outputs": [],
   "source": [
    "## Calculate P_e\n",
    "\n",
    "P_e = 0\n",
    "\n",
    "for j in range(n.shape[1]):\n",
    "    P_e += pj[j]*pj[j]"
   ]
  },
  {
   "cell_type": "code",
   "execution_count": 146,
   "id": "28bd202c",
   "metadata": {},
   "outputs": [
    {
     "data": {
      "text/plain": [
       "0.8690448461407186"
      ]
     },
     "execution_count": 146,
     "metadata": {},
     "output_type": "execute_result"
    }
   ],
   "source": [
    "(P_dash-P_e)/(1-P_e)"
   ]
  },
  {
   "cell_type": "code",
   "execution_count": 147,
   "id": "4519b29d",
   "metadata": {},
   "outputs": [],
   "source": [
    "## Compressed Labels IT : 0.6548985720011437\n",
    "## Compressed Labels CL: 0.8690448461407186\n",
    "\n",
    "## ALL labels IT : 0.5923612507457806\n",
    "## ALL labels CL : 0.8640880615553184"
   ]
  },
  {
   "cell_type": "code",
   "execution_count": null,
   "id": "d811b41f",
   "metadata": {},
   "outputs": [],
   "source": []
  }
 ],
 "metadata": {
  "kernelspec": {
   "display_name": "Python 3",
   "language": "python",
   "name": "python3"
  },
  "language_info": {
   "codemirror_mode": {
    "name": "ipython",
    "version": 3
   },
   "file_extension": ".py",
   "mimetype": "text/x-python",
   "name": "python",
   "nbconvert_exporter": "python",
   "pygments_lexer": "ipython3",
   "version": "3.8.8"
  }
 },
 "nbformat": 4,
 "nbformat_minor": 5
}
